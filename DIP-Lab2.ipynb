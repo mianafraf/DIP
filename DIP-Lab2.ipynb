{
 "cells": [
  {
   "cell_type": "code",
   "execution_count": 59,
   "id": "fcf35079",
   "metadata": {},
   "outputs": [],
   "source": [
    "import numpy as np\n",
    "\n",
    "# def formula(pixel):\n",
    "#     return (0.299*pixel[0] + 0.587*pixel[1] + 0.114*pixel[2])\n",
    "\n",
    "z = np.asarray(Image.open('afrasiyyab.jpeg'))\n",
    "x = np.zeros((z.shape[0], z.shape[1]))\n",
    "for rows in range(len(z)):\n",
    "    for colomn in range(len(z[rows])):\n",
    "        x[rows][colomn] = formula(z[rows][colomn])\n",
    "\n",
    "x=x.astype(np.uint8)\n",
    "grey_img = Image.fromarray(x)\n",
    "grey_img.save('afra_rgb-grey.png')\n"
   ]
  },
  {
   "cell_type": "code",
   "execution_count": 7,
   "id": "1d9b0668",
   "metadata": {},
   "outputs": [
    {
     "name": "stdout",
     "output_type": "stream",
     "text": [
      "JPEG RGB (1058, 1280)\n"
     ]
    }
   ],
   "source": [
    "import PIL\n",
    "from PIL import Image\n",
    "im=Image.open('img.jpg')\n",
    "print(im.format , im.mode , im.size)"
   ]
  },
  {
   "cell_type": "code",
   "execution_count": 8,
   "id": "c00d5ffc",
   "metadata": {},
   "outputs": [],
   "source": [
    "import os, sys"
   ]
  },
  {
   "cell_type": "code",
   "execution_count": 9,
   "id": "6ec7c805",
   "metadata": {},
   "outputs": [
    {
     "data": {
      "text/plain": [
       "('afra', '.jpg')"
      ]
     },
     "execution_count": 9,
     "metadata": {},
     "output_type": "execute_result"
    }
   ],
   "source": [
    "os.path.splitext('afra.jpg')"
   ]
  },
  {
   "cell_type": "code",
   "execution_count": 10,
   "id": "67b845a2",
   "metadata": {},
   "outputs": [
    {
     "data": {
      "text/plain": [
       "('R', 'G', 'B')"
      ]
     },
     "execution_count": 10,
     "metadata": {},
     "output_type": "execute_result"
    }
   ],
   "source": [
    "im.getbands()"
   ]
  },
  {
   "cell_type": "code",
   "execution_count": 11,
   "id": "82512fd8",
   "metadata": {},
   "outputs": [
    {
     "ename": "AttributeError",
     "evalue": "histt",
     "output_type": "error",
     "traceback": [
      "\u001b[0;31m---------------------------------------------------------------------------\u001b[0m",
      "\u001b[0;31mAttributeError\u001b[0m                            Traceback (most recent call last)",
      "Input \u001b[0;32mIn [11]\u001b[0m, in \u001b[0;36m<cell line: 1>\u001b[0;34m()\u001b[0m\n\u001b[0;32m----> 1\u001b[0m \u001b[43mim\u001b[49m\u001b[38;5;241;43m.\u001b[39;49m\u001b[43mhistt\u001b[49m()\n",
      "File \u001b[0;32m~/opt/anaconda3/lib/python3.9/site-packages/PIL/Image.py:519\u001b[0m, in \u001b[0;36mImage.__getattr__\u001b[0;34m(self, name)\u001b[0m\n\u001b[1;32m    512\u001b[0m     warnings\u001b[38;5;241m.\u001b[39mwarn(\n\u001b[1;32m    513\u001b[0m         \u001b[38;5;124m\"\u001b[39m\u001b[38;5;124mImage categories are deprecated and will be removed in Pillow 10 \u001b[39m\u001b[38;5;124m\"\u001b[39m\n\u001b[1;32m    514\u001b[0m         \u001b[38;5;124m\"\u001b[39m\u001b[38;5;124m(2023-07-01). Use is_animated instead.\u001b[39m\u001b[38;5;124m\"\u001b[39m,\n\u001b[1;32m    515\u001b[0m         \u001b[38;5;167;01mDeprecationWarning\u001b[39;00m,\n\u001b[1;32m    516\u001b[0m         stacklevel\u001b[38;5;241m=\u001b[39m\u001b[38;5;241m2\u001b[39m,\n\u001b[1;32m    517\u001b[0m     )\n\u001b[1;32m    518\u001b[0m     \u001b[38;5;28;01mreturn\u001b[39;00m \u001b[38;5;28mself\u001b[39m\u001b[38;5;241m.\u001b[39m_category\n\u001b[0;32m--> 519\u001b[0m \u001b[38;5;28;01mraise\u001b[39;00m \u001b[38;5;167;01mAttributeError\u001b[39;00m(name)\n",
      "\u001b[0;31mAttributeError\u001b[0m: histt"
     ]
    }
   ],
   "source": [
    "im.histt()"
   ]
  },
  {
   "cell_type": "code",
   "execution_count": 12,
   "id": "d382bb7b",
   "metadata": {},
   "outputs": [
    {
     "ename": "AttributeError",
     "evalue": "nearest",
     "output_type": "error",
     "traceback": [
      "\u001b[0;31m---------------------------------------------------------------------------\u001b[0m",
      "\u001b[0;31mAttributeError\u001b[0m                            Traceback (most recent call last)",
      "Input \u001b[0;32mIn [12]\u001b[0m, in \u001b[0;36m<cell line: 1>\u001b[0;34m()\u001b[0m\n\u001b[0;32m----> 1\u001b[0m \u001b[43mim\u001b[49m\u001b[38;5;241;43m.\u001b[39;49m\u001b[43mnearest\u001b[49m()\n",
      "File \u001b[0;32m~/opt/anaconda3/lib/python3.9/site-packages/PIL/Image.py:519\u001b[0m, in \u001b[0;36mImage.__getattr__\u001b[0;34m(self, name)\u001b[0m\n\u001b[1;32m    512\u001b[0m     warnings\u001b[38;5;241m.\u001b[39mwarn(\n\u001b[1;32m    513\u001b[0m         \u001b[38;5;124m\"\u001b[39m\u001b[38;5;124mImage categories are deprecated and will be removed in Pillow 10 \u001b[39m\u001b[38;5;124m\"\u001b[39m\n\u001b[1;32m    514\u001b[0m         \u001b[38;5;124m\"\u001b[39m\u001b[38;5;124m(2023-07-01). Use is_animated instead.\u001b[39m\u001b[38;5;124m\"\u001b[39m,\n\u001b[1;32m    515\u001b[0m         \u001b[38;5;167;01mDeprecationWarning\u001b[39;00m,\n\u001b[1;32m    516\u001b[0m         stacklevel\u001b[38;5;241m=\u001b[39m\u001b[38;5;241m2\u001b[39m,\n\u001b[1;32m    517\u001b[0m     )\n\u001b[1;32m    518\u001b[0m     \u001b[38;5;28;01mreturn\u001b[39;00m \u001b[38;5;28mself\u001b[39m\u001b[38;5;241m.\u001b[39m_category\n\u001b[0;32m--> 519\u001b[0m \u001b[38;5;28;01mraise\u001b[39;00m \u001b[38;5;167;01mAttributeError\u001b[39;00m(name)\n",
      "\u001b[0;31mAttributeError\u001b[0m: nearest"
     ]
    }
   ],
   "source": [
    "im.nearest()"
   ]
  },
  {
   "cell_type": "code",
   "execution_count": 18,
   "id": "68304c6c",
   "metadata": {},
   "outputs": [],
   "source": [
    "im.convert('F').show()"
   ]
  },
  {
   "cell_type": "code",
   "execution_count": 27,
   "id": "55279bcf",
   "metadata": {},
   "outputs": [],
   "source": [
    "im.filter(ImageFilter.SHARPEN).show()"
   ]
  },
  {
   "cell_type": "code",
   "execution_count": 31,
   "id": "dabd6a94",
   "metadata": {},
   "outputs": [
    {
     "data": {
      "text/plain": [
       "(1280, 1058, 3)"
      ]
     },
     "execution_count": 31,
     "metadata": {},
     "output_type": "execute_result"
    }
   ],
   "source": [
    "np.asarray(im).shape"
   ]
  },
  {
   "cell_type": "code",
   "execution_count": 29,
   "id": "ee5c5f1e",
   "metadata": {},
   "outputs": [],
   "source": [
    "import numpy as np"
   ]
  },
  {
   "cell_type": "code",
   "execution_count": 41,
   "id": "6533ebf5",
   "metadata": {},
   "outputs": [],
   "source": [
    "def formula(pixel):\n",
    "    return (pixel[0]/3 + pixel[1]/3 + pixel[2]/3)\n"
   ]
  },
  {
   "cell_type": "code",
   "execution_count": 35,
   "id": "92590d4e",
   "metadata": {},
   "outputs": [],
   "source": [
    "def formula(pixel):\n",
    "    return (0.299*pixel[0] + 0.587*pixel[1] + 0.114*pixel[2])"
   ]
  },
  {
   "cell_type": "code",
   "execution_count": 42,
   "id": "a1ed4fd4",
   "metadata": {},
   "outputs": [],
   "source": [
    "z = np.asarray(Image.open('img.jpeg'))\n",
    "x = np.zeros((z.shape[0], z.shape[1]))\n",
    "for rows in range(len(z)):\n",
    "    for colomn in range(len(z[rows])):\n",
    "        x[rows][colomn] = formula(z[rows][colomn])\n",
    "\n",
    "# x=x.astype(np.uint8)\n",
    "grey_img = Image.fromarray(x)\n",
    "grey_img.show()"
   ]
  },
  {
   "cell_type": "code",
   "execution_count": null,
   "id": "d2018248",
   "metadata": {},
   "outputs": [],
   "source": []
  }
 ],
 "metadata": {
  "kernelspec": {
   "display_name": "Python 3 (ipykernel)",
   "language": "python",
   "name": "python3"
  },
  "language_info": {
   "codemirror_mode": {
    "name": "ipython",
    "version": 3
   },
   "file_extension": ".py",
   "mimetype": "text/x-python",
   "name": "python",
   "nbconvert_exporter": "python",
   "pygments_lexer": "ipython3",
   "version": "3.9.12"
  }
 },
 "nbformat": 4,
 "nbformat_minor": 5
}
