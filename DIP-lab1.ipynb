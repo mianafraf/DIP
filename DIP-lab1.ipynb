{
 "cells": [
  {
   "cell_type": "markdown",
   "id": "ffea4a65",
   "metadata": {},
   "source": [
    "# DIP Lab 1: Practice"
   ]
  },
  {
   "cell_type": "markdown",
   "id": "6931de20",
   "metadata": {},
   "source": [
    "## Removing character at a specific index from string"
   ]
  },
  {
   "cell_type": "code",
   "execution_count": 1,
   "id": "1eba6ad0",
   "metadata": {},
   "outputs": [],
   "source": [
    "str=\"Afrasiyyab\""
   ]
  },
  {
   "cell_type": "code",
   "execution_count": 5,
   "id": "39e1f3a6",
   "metadata": {},
   "outputs": [
    {
     "data": {
      "text/plain": [
       "'asiyyab'"
      ]
     },
     "execution_count": 5,
     "metadata": {},
     "output_type": "execute_result"
    }
   ],
   "source": [
    "str[3:]"
   ]
  },
  {
   "cell_type": "code",
   "execution_count": 8,
   "id": "453cbe2d",
   "metadata": {},
   "outputs": [
    {
     "data": {
      "text/plain": [
       "'Afra'"
      ]
     },
     "execution_count": 8,
     "metadata": {},
     "output_type": "execute_result"
    }
   ],
   "source": [
    "str[:4]"
   ]
  },
  {
   "cell_type": "code",
   "execution_count": 9,
   "id": "d873c7b4",
   "metadata": {},
   "outputs": [],
   "source": [
    "def rem(str,indice):\n",
    "    return (str[:indice]+str[indice+1:])"
   ]
  },
  {
   "cell_type": "code",
   "execution_count": 12,
   "id": "c55ca610",
   "metadata": {},
   "outputs": [
    {
     "data": {
      "text/plain": [
       "'Arasiyyab'"
      ]
     },
     "execution_count": 12,
     "metadata": {},
     "output_type": "execute_result"
    }
   ],
   "source": [
    "rem(str,1)"
   ]
  },
  {
   "cell_type": "code",
   "execution_count": null,
   "id": "8be46faf",
   "metadata": {},
   "outputs": [],
   "source": []
  }
 ],
 "metadata": {
  "kernelspec": {
   "display_name": "Python 3 (ipykernel)",
   "language": "python",
   "name": "python3"
  },
  "language_info": {
   "codemirror_mode": {
    "name": "ipython",
    "version": 3
   },
   "file_extension": ".py",
   "mimetype": "text/x-python",
   "name": "python",
   "nbconvert_exporter": "python",
   "pygments_lexer": "ipython3",
   "version": "3.9.12"
  }
 },
 "nbformat": 4,
 "nbformat_minor": 5
}
